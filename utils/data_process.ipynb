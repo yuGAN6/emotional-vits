{
 "cells": [
  {
   "cell_type": "markdown",
   "metadata": {},
   "source": [
    "#### 处理录音srt"
   ]
  },
  {
   "cell_type": "code",
   "execution_count": 7,
   "metadata": {},
   "outputs": [],
   "source": [
    "from pathlib import Path\n",
    "import pandas as pd\n",
    "import srt"
   ]
  },
  {
   "cell_type": "markdown",
   "metadata": {},
   "source": [
    "找到路径下所有录播wav片段"
   ]
  },
  {
   "cell_type": "code",
   "execution_count": 8,
   "metadata": {},
   "outputs": [
    {
     "data": {
      "text/plain": [
       "[WindowsPath('C:/Users/63537/Desktop/projects/TTS/data/audio/20221110/remove/demucs_renamed/1_【直播回放】11 2022年11月10日20点场 - 1.【直播回放】11 2022年11月10日20点场(Av817466437,P1)_01_(Vocals).wav'),\n",
       " WindowsPath('C:/Users/63537/Desktop/projects/TTS/data/audio/20221110/remove/demucs_renamed/2_【直播回放】11 2022年11月10日20点场 - 1.【直播回放】11 2022年11月10日20点场(Av817466437,P1)_02_(Vocals).wav'),\n",
       " WindowsPath('C:/Users/63537/Desktop/projects/TTS/data/audio/20221110/remove/demucs_renamed/3_【直播回放】11 2022年11月10日20点场 - 1.【直播回放】11 2022年11月10日20点场(Av817466437,P1)_03_(Vocals).wav'),\n",
       " WindowsPath('C:/Users/63537/Desktop/projects/TTS/data/audio/20221110/remove/demucs_renamed/4_【直播回放】11 2022年11月10日20点场 - 1.【直播回放】11 2022年11月10日20点场(Av817466437,P1)_04_(Vocals).wav'),\n",
       " WindowsPath('C:/Users/63537/Desktop/projects/TTS/data/audio/20221110/remove/demucs_renamed/5_【直播回放】11 2022年11月10日20点场 - 1.【直播回放】11 2022年11月10日20点场(Av817466437,P1)_05_(Vocals).wav'),\n",
       " WindowsPath('C:/Users/63537/Desktop/projects/TTS/data/audio/20221110/remove/demucs_renamed/6_【直播回放】11 2022年11月10日20点场 - 1.【直播回放】11 2022年11月10日20点场(Av817466437,P1)_06_(Vocals).wav'),\n",
       " WindowsPath('C:/Users/63537/Desktop/projects/TTS/data/audio/20221110/remove/demucs_renamed/renamed/20221110-01.wav'),\n",
       " WindowsPath('C:/Users/63537/Desktop/projects/TTS/data/audio/20221110/remove/demucs_renamed/renamed/20221110-02.wav'),\n",
       " WindowsPath('C:/Users/63537/Desktop/projects/TTS/data/audio/20221110/remove/demucs_renamed/renamed/20221110-03.wav'),\n",
       " WindowsPath('C:/Users/63537/Desktop/projects/TTS/data/audio/20221110/remove/demucs_renamed/renamed/20221110-04.wav'),\n",
       " WindowsPath('C:/Users/63537/Desktop/projects/TTS/data/audio/20221110/remove/demucs_renamed/renamed/20221110-05.wav'),\n",
       " WindowsPath('C:/Users/63537/Desktop/projects/TTS/data/audio/20221110/remove/demucs_renamed/renamed/20221110-06.wav')]"
      ]
     },
     "execution_count": 8,
     "metadata": {},
     "output_type": "execute_result"
    }
   ],
   "source": [
    "file_list = [i for i in Path(r'C:\\Users\\63537\\Desktop\\projects\\TTS\\data\\audio\\20221110\\remove\\demucs_renamed').rglob(\"*.wav\")]\n",
    "file_list"
   ]
  },
  {
   "cell_type": "markdown",
   "metadata": {},
   "source": [
    "重命名并保存到新目录"
   ]
  },
  {
   "cell_type": "code",
   "execution_count": 5,
   "metadata": {},
   "outputs": [],
   "source": [
    "import shutil\n",
    "\n",
    "new_dir = r'C:\\Users\\63537\\Desktop\\projects\\TTS\\data\\audio\\20221110\\remove\\demucs_renamed\\renamed'\n",
    "\n",
    "for file in file_list:\n",
    "    new_name = '20221110-' + Path(file).stem.split('_')[-2] + '.wav'\n",
    "    shutil.copy2(file, Path(new_dir) / Path(new_name))\n",
    "    \n",
    "file_list = [i for i in Path(new_dir).rglob('*')]\n"
   ]
  },
  {
   "cell_type": "markdown",
   "metadata": {},
   "source": [
    "读取字幕列表，重命名并保存到新目录"
   ]
  },
  {
   "cell_type": "code",
   "execution_count": 9,
   "metadata": {},
   "outputs": [],
   "source": [
    "\n",
    "srt_list = [i for i in Path(r'C:\\Users\\63537\\Desktop\\projects\\TTS\\data\\audio\\20221110\\remove\\demucs_renamed').rglob('*.srt')]\n",
    "\n",
    "for file in srt_list:\n",
    "    new_name = '20221110-' + Path(file).stem.split('_')[-2] + '.srt'\n",
    "    shutil.copy2(file, Path(new_dir) / Path(new_name))"
   ]
  },
  {
   "cell_type": "markdown",
   "metadata": {},
   "source": [
    "新录音，字幕组合"
   ]
  },
  {
   "cell_type": "code",
   "execution_count": 9,
   "metadata": {},
   "outputs": [
    {
     "data": {
      "text/html": [
       "<div>\n",
       "<style scoped>\n",
       "    .dataframe tbody tr th:only-of-type {\n",
       "        vertical-align: middle;\n",
       "    }\n",
       "\n",
       "    .dataframe tbody tr th {\n",
       "        vertical-align: top;\n",
       "    }\n",
       "\n",
       "    .dataframe thead th {\n",
       "        text-align: right;\n",
       "    }\n",
       "</style>\n",
       "<table border=\"1\" class=\"dataframe\">\n",
       "  <thead>\n",
       "    <tr style=\"text-align: right;\">\n",
       "      <th></th>\n",
       "      <th>key</th>\n",
       "      <th>wav</th>\n",
       "      <th>srt</th>\n",
       "    </tr>\n",
       "  </thead>\n",
       "  <tbody>\n",
       "    <tr>\n",
       "      <th>0</th>\n",
       "      <td>20221110-01</td>\n",
       "      <td>C:\\Users\\63537\\Desktop\\projects\\TTS\\data\\audio...</td>\n",
       "      <td>C:\\Users\\63537\\Desktop\\projects\\TTS\\data\\audio...</td>\n",
       "    </tr>\n",
       "    <tr>\n",
       "      <th>1</th>\n",
       "      <td>20221110-02</td>\n",
       "      <td>C:\\Users\\63537\\Desktop\\projects\\TTS\\data\\audio...</td>\n",
       "      <td>C:\\Users\\63537\\Desktop\\projects\\TTS\\data\\audio...</td>\n",
       "    </tr>\n",
       "    <tr>\n",
       "      <th>2</th>\n",
       "      <td>20221110-03</td>\n",
       "      <td>C:\\Users\\63537\\Desktop\\projects\\TTS\\data\\audio...</td>\n",
       "      <td>C:\\Users\\63537\\Desktop\\projects\\TTS\\data\\audio...</td>\n",
       "    </tr>\n",
       "    <tr>\n",
       "      <th>3</th>\n",
       "      <td>20221110-04</td>\n",
       "      <td>C:\\Users\\63537\\Desktop\\projects\\TTS\\data\\audio...</td>\n",
       "      <td>C:\\Users\\63537\\Desktop\\projects\\TTS\\data\\audio...</td>\n",
       "    </tr>\n",
       "    <tr>\n",
       "      <th>4</th>\n",
       "      <td>20221110-05</td>\n",
       "      <td>C:\\Users\\63537\\Desktop\\projects\\TTS\\data\\audio...</td>\n",
       "      <td>C:\\Users\\63537\\Desktop\\projects\\TTS\\data\\audio...</td>\n",
       "    </tr>\n",
       "    <tr>\n",
       "      <th>5</th>\n",
       "      <td>20221110-06</td>\n",
       "      <td>C:\\Users\\63537\\Desktop\\projects\\TTS\\data\\audio...</td>\n",
       "      <td>C:\\Users\\63537\\Desktop\\projects\\TTS\\data\\audio...</td>\n",
       "    </tr>\n",
       "  </tbody>\n",
       "</table>\n",
       "</div>"
      ],
      "text/plain": [
       "           key                                                wav  \\\n",
       "0  20221110-01  C:\\Users\\63537\\Desktop\\projects\\TTS\\data\\audio...   \n",
       "1  20221110-02  C:\\Users\\63537\\Desktop\\projects\\TTS\\data\\audio...   \n",
       "2  20221110-03  C:\\Users\\63537\\Desktop\\projects\\TTS\\data\\audio...   \n",
       "3  20221110-04  C:\\Users\\63537\\Desktop\\projects\\TTS\\data\\audio...   \n",
       "4  20221110-05  C:\\Users\\63537\\Desktop\\projects\\TTS\\data\\audio...   \n",
       "5  20221110-06  C:\\Users\\63537\\Desktop\\projects\\TTS\\data\\audio...   \n",
       "\n",
       "                                                 srt  \n",
       "0  C:\\Users\\63537\\Desktop\\projects\\TTS\\data\\audio...  \n",
       "1  C:\\Users\\63537\\Desktop\\projects\\TTS\\data\\audio...  \n",
       "2  C:\\Users\\63537\\Desktop\\projects\\TTS\\data\\audio...  \n",
       "3  C:\\Users\\63537\\Desktop\\projects\\TTS\\data\\audio...  \n",
       "4  C:\\Users\\63537\\Desktop\\projects\\TTS\\data\\audio...  \n",
       "5  C:\\Users\\63537\\Desktop\\projects\\TTS\\data\\audio...  "
      ]
     },
     "execution_count": 9,
     "metadata": {},
     "output_type": "execute_result"
    }
   ],
   "source": [
    "new_dir = r'C:\\Users\\63537\\Desktop\\projects\\TTS\\data\\audio\\20221110\\remove\\demucs_renamed\\renamed'\n",
    "srt_list = [i for i in Path(new_dir).rglob('*.srt')]\n",
    "wav_list = [i for i in Path(new_dir).rglob('*.wav')]\n",
    "key_list = [i.stem for i in wav_list]\n",
    "df = pd.DataFrame([key_list, wav_list, srt_list]).T\n",
    "df.columns = ['key', 'wav', 'srt']\n",
    "df"
   ]
  },
  {
   "cell_type": "code",
   "execution_count": 10,
   "metadata": {},
   "outputs": [
    {
     "name": "stderr",
     "output_type": "stream",
     "text": [
      "100%|██████████| 276/276 [00:00<00:00, 1803.88it/s]\n",
      "100%|██████████| 349/349 [00:00<00:00, 1384.91it/s]\n",
      "100%|██████████| 435/435 [00:00<00:00, 1797.52it/s]\n",
      "100%|██████████| 387/387 [00:00<00:00, 1660.96it/s]\n",
      "100%|██████████| 385/385 [00:00<00:00, 1816.03it/s]\n",
      "100%|██████████| 196/196 [00:00<00:00, 1370.60it/s]\n"
     ]
    }
   ],
   "source": [
    "from tqdm import tqdm\n",
    "from pydub import AudioSegment\n",
    "\n",
    "cuts_dir = r'C:\\Users\\63537\\Desktop\\projects\\TTS\\data\\audio\\20221110\\cuts\\wav'\n",
    "res_save_path = r'C:\\Users\\63537\\Desktop\\projects\\TTS\\data\\audio\\20221110\\cuts\\20221110-all.txt'\n",
    "\n",
    "with open(res_save_path,'w',encoding='utf8') as res_file:\n",
    "\n",
    "    for row in df.itertuples():\n",
    "        with open(row.srt,'r', encoding='utf-8') as f:\n",
    "            srt_text = f.read()\n",
    "        srt_objs = [i for i in srt.parse(srt_text)]\n",
    "\n",
    "        audio:AudioSegment = AudioSegment.from_file(row.wav)\n",
    "        if audio.channels == 2:\n",
    "            audio = audio.split_to_mono()[0]\n",
    "        for i in tqdm(srt_objs):\n",
    "            # 开始结束\n",
    "            start_milli_sec = int(i.start.total_seconds()*1000)\n",
    "            end_milli_sec = int(i.end.total_seconds()*1000)\n",
    "            # 录音段导出\n",
    "            out_name = f'{row.key}-{start_milli_sec}-{end_milli_sec}.wav'\n",
    "            out_path = Path(cuts_dir) /  Path(out_name)\n",
    "            cut = audio[start_milli_sec:end_milli_sec]\n",
    "            cut.export(out_path, format='wav')\n",
    "            # 结果保存\n",
    "            text = i.content\n",
    "            res_file.write(f'{out_path}|yua|{text}\\n')\n",
    "\n",
    "    "
   ]
  },
  {
   "cell_type": "markdown",
   "metadata": {},
   "source": [
    "### 提取 emotion embeddings"
   ]
  },
  {
   "cell_type": "code",
   "execution_count": 1,
   "metadata": {},
   "outputs": [
    {
     "name": "stderr",
     "output_type": "stream",
     "text": [
      "c:\\Users\\63537\\anaconda3\\envs\\emotional-vits\\lib\\site-packages\\tqdm\\auto.py:21: TqdmWarning: IProgress not found. Please update jupyter and ipywidgets. See https://ipywidgets.readthedocs.io/en/stable/user_install.html\n",
      "  from .autonotebook import tqdm as notebook_tqdm\n"
     ]
    }
   ],
   "source": [
    "import torch\n",
    "import torch.nn as nn\n",
    "from transformers import Wav2Vec2Processor\n",
    "from transformers.models.wav2vec2.modeling_wav2vec2 import (\n",
    "    Wav2Vec2Model,\n",
    "    Wav2Vec2PreTrainedModel,\n",
    ")\n",
    "import os\n",
    "import librosa\n",
    "import numpy as np\n",
    "\n",
    "import sys\n",
    "sys.path.append('..')\n",
    "from emotion_extract import EmotionModel, torch_extract"
   ]
  },
  {
   "cell_type": "code",
   "execution_count": 2,
   "metadata": {},
   "outputs": [
    {
     "name": "stderr",
     "output_type": "stream",
     "text": [
      "Special tokens have been added in the vocabulary, make sure the associated word embeddings are fine-tuned or trained.\n"
     ]
    }
   ],
   "source": [
    "# load model from hub   \n",
    "device = 'cuda' if torch.cuda.is_available() else \"cpu\"\n",
    "model_name = '../emotion-model/wav2vec2-large-robust-12-ft-emotion-msp-dim'\n",
    "processor = Wav2Vec2Processor.from_pretrained(model_name)\n",
    "model = EmotionModel.from_pretrained(model_name).to(device)"
   ]
  },
  {
   "cell_type": "code",
   "execution_count": 9,
   "metadata": {},
   "outputs": [
    {
     "name": "stdout",
     "output_type": "stream",
     "text": [
      "C:\\Users\\63537\\Desktop\\projects\\TTS\\data\\audio\\20221110\\cuts\\20221110-all.txt ----start emotion extract-------\n"
     ]
    },
    {
     "name": "stderr",
     "output_type": "stream",
     "text": [
      "100%|██████████| 2028/2028 [00:47<00:00, 42.34it/s]\n"
     ]
    }
   ],
   "source": [
    "from tqdm import tqdm\n",
    "from pathlib import Path\n",
    "import pandas as pd\n",
    "import torchaudio\n",
    "\n",
    "file_lists = [Path(r'C:/Users/63537/Desktop/projects/TTS/data/audio/20221110/cuts/20221110-all.txt')]\n",
    "\n",
    "emb_list = []\n",
    "for filelist in file_lists:\n",
    "    print(filelist, \"----start emotion extract-------\")\n",
    "    df = pd.read_table(filelist, sep='|',header=None)\n",
    "\n",
    "    for file in tqdm(df[0]):\n",
    "        wav, sr = torchaudio.load(file)\n",
    "        # if wav.dim() >= 2:\n",
    "        #     wav = wav.squeeze(0)\n",
    "        wav = torchaudio.transforms.Resample(orig_freq=sr, new_freq=16_000)(wav)\n",
    "        if len(wav[0]) < (16 * 500): # 最小 500ms\n",
    "            continue\n",
    "        emb = torch_extract(x=wav, sampling_rate=16_000, embeddings=True, \n",
    "                            processor=processor, model=model, device=device)\n",
    "        emb_list.append(\n",
    "            {'emb_name': file + '.emo.npy', 'emb':emb}\n",
    "        )"
   ]
  },
  {
   "cell_type": "code",
   "execution_count": 22,
   "metadata": {},
   "outputs": [
    {
     "name": "stdout",
     "output_type": "stream",
     "text": [
      "{'emb_name': 'C:\\\\Users\\\\63537\\\\Desktop\\\\projects\\\\TTS\\\\data\\\\audio\\\\20221110\\\\cuts\\\\wav\\\\20221110-01-966-1568.wav.emo.npy', 'emb': array([[-0.00760905,  0.00558934, -0.0115053 , ...,  0.0071029 ,\n",
      "         0.00709296,  0.00472145]], dtype=float32)}\n"
     ]
    },
    {
     "name": "stderr",
     "output_type": "stream",
     "text": [
      "100%|██████████| 1815/1815 [00:01<00:00, 1594.90it/s]\n"
     ]
    }
   ],
   "source": [
    "print(emb_list[0])\n",
    "for d in tqdm(emb_list):\n",
    "    np.save(f\"{d['emb_name']}\", d['emb'].squeeze(0))"
   ]
  },
  {
   "cell_type": "code",
   "execution_count": 32,
   "metadata": {},
   "outputs": [],
   "source": [
    "import pandas as pd\n",
    "from pydub import AudioSegment\n",
    "\n",
    "df = pd.read_table(filelist, sep='|',header=None)\n",
    "df['length'] = df[0].apply(lambda x: len(AudioSegment.from_file(x)))\n",
    "df = df[df['length'] >= 500]\n",
    "df.columns = ['wav','spk','text','length']\n",
    "df['emo-emb'] = df['wav'].apply(lambda x: Path(x).parent / Path(Path(x).name + '.emo.npy'))\n",
    "df.to_csv(Path(r'C:/Users/63537/Desktop/projects/TTS/data/audio/20221110/cuts/20221110-all-emo-above0.5.csv'), index=None)"
   ]
  },
  {
   "cell_type": "code",
   "execution_count": 31,
   "metadata": {},
   "outputs": [
    {
     "data": {
      "text/plain": [
       "WindowsPath('C:/Users/63537/Desktop/projects/TTS/data/audio/20221110/cuts')"
      ]
     },
     "execution_count": 31,
     "metadata": {},
     "output_type": "execute_result"
    }
   ],
   "source": [
    "Path(r'C:/Users/63537/Desktop/projects/TTS/data/audio/20221110/cuts/20221110-all-emo-above0.5.csv').parent\n"
   ]
  },
  {
   "cell_type": "code",
   "execution_count": 13,
   "metadata": {},
   "outputs": [
    {
     "data": {
      "text/plain": [
       "{'input_values': [array([[-0.01334807, -0.02073031, -0.01764838, ...,  0.00980827,\n",
       "         0.01093164,  0.00634813]], dtype=float32)], 'attention_mask': [array([1])]}"
      ]
     },
     "execution_count": 13,
     "metadata": {},
     "output_type": "execute_result"
    }
   ],
   "source": [
    "y = processor(wav, sampling_rate=16000)\n",
    "y"
   ]
  },
  {
   "cell_type": "code",
   "execution_count": 20,
   "metadata": {},
   "outputs": [
    {
     "data": {
      "text/plain": [
       "tensor([[-0.0073,  0.0060, -0.0060,  ...,  0.0074,  0.0078,  0.0053]],\n",
       "       device='cuda:0')"
      ]
     },
     "execution_count": 20,
     "metadata": {},
     "output_type": "execute_result"
    }
   ],
   "source": [
    "model(torch.from_numpy(y['input_values'][0]).to(device))[0].detach()"
   ]
  },
  {
   "cell_type": "code",
   "execution_count": null,
   "metadata": {},
   "outputs": [],
   "source": []
  },
  {
   "cell_type": "markdown",
   "metadata": {},
   "source": []
  }
 ],
 "metadata": {
  "kernelspec": {
   "display_name": "Python 3.8.15 ('emotional-vits')",
   "language": "python",
   "name": "python3"
  },
  "language_info": {
   "codemirror_mode": {
    "name": "ipython",
    "version": 3
   },
   "file_extension": ".py",
   "mimetype": "text/x-python",
   "name": "python",
   "nbconvert_exporter": "python",
   "pygments_lexer": "ipython3",
   "version": "3.8.15"
  },
  "orig_nbformat": 4,
  "vscode": {
   "interpreter": {
    "hash": "0c248ce6975767ac634a5f31a0a7d677ef252ad005347cce479664f465478712"
   }
  }
 },
 "nbformat": 4,
 "nbformat_minor": 2
}
