{
 "cells": [
  {
   "cell_type": "code",
   "execution_count": 2,
   "metadata": {},
   "outputs": [],
   "source": [
    "import time\n",
    "import os\n",
    "import random\n",
    "import numpy as np\n",
    "import torch, torchaudio\n",
    "import torch.utils.data\n",
    "\n",
    "import commons \n",
    "from mel_processing import spectrogram_torch\n",
    "from utils import load_wav_to_torch, load_filepaths_and_text\n",
    "from text import text_to_sequence, cleaned_text_to_sequence\n",
    "from text.cleaners import zh_ja_mixture_cleaners\n",
    "from text.symbols import symbols"
   ]
  },
  {
   "cell_type": "code",
   "execution_count": 4,
   "metadata": {},
   "outputs": [],
   "source": [
    "_symbol_to_id = {s: i for i, s in enumerate(symbols)}\n",
    "_id_to_symbol = {i: s for i, s in enumerate(symbols)}\n"
   ]
  },
  {
   "cell_type": "code",
   "execution_count": 9,
   "metadata": {},
   "outputs": [
    {
     "name": "stdout",
     "output_type": "stream",
     "text": [
      "[49, 84, 43, 65, 44, 6, 49, 70, 46, 6, 49, 84, 43, 65, 44, 6, 49, 70, 46]\n",
      "ㄅㄨˊㄕˋ ㄅㄚ˙ ㄅㄨˊㄕˋ ㄅㄚ˙\n",
      "True\n"
     ]
    }
   ],
   "source": [
    "print(text_to_sequence(\"不是吧不是吧\", cleaner_names=[\"zh_ja_mixture_cleaners\"]))\n",
    "print(zh_ja_mixture_cleaners('不是吧不是吧'))\n",
    "print([_symbol_to_id[i] for i in zh_ja_mixture_cleaners('不是吧不是吧')] == text_to_sequence(\"不是吧不是吧\", cleaner_names=[\"zh_ja_mixture_cleaners\"]))"
   ]
  }
 ],
 "metadata": {
  "kernelspec": {
   "display_name": "Python 3.8.15 ('emotional-vits')",
   "language": "python",
   "name": "python3"
  },
  "language_info": {
   "codemirror_mode": {
    "name": "ipython",
    "version": 3
   },
   "file_extension": ".py",
   "mimetype": "text/x-python",
   "name": "python",
   "nbconvert_exporter": "python",
   "pygments_lexer": "ipython3",
   "version": "3.8.15"
  },
  "orig_nbformat": 4,
  "vscode": {
   "interpreter": {
    "hash": "0c248ce6975767ac634a5f31a0a7d677ef252ad005347cce479664f465478712"
   }
  }
 },
 "nbformat": 4,
 "nbformat_minor": 2
}
