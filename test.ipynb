{
 "cells": [
  {
   "cell_type": "code",
   "execution_count": 1,
   "metadata": {},
   "outputs": [
    {
     "name": "stderr",
     "output_type": "stream",
     "text": [
      "c:\\Users\\63537\\anaconda3\\envs\\emotional-vits\\lib\\site-packages\\tqdm\\auto.py:21: TqdmWarning: IProgress not found. Please update jupyter and ipywidgets. See https://ipywidgets.readthedocs.io/en/stable/user_install.html\n",
      "  from .autonotebook import tqdm as notebook_tqdm\n"
     ]
    }
   ],
   "source": [
    "import time\n",
    "import os\n",
    "import random\n",
    "import numpy as np\n",
    "import torch, torchaudio\n",
    "import torch.utils.data\n",
    "\n",
    "import commons \n",
    "from mel_processing import spectrogram_torch\n",
    "from utils import load_wav_to_torch, load_filepaths_and_text\n",
    "from text import text_to_sequence, cleaned_text_to_sequence\n",
    "from text.cleaners import zh_ja_mixture_cleaners\n",
    "from text.english import english_to_lazy_ipa2, english_to_ipa2, english_to_lazy_ipa\n",
    "\n",
    "from text.symbols import symbols"
   ]
  },
  {
   "cell_type": "code",
   "execution_count": 2,
   "metadata": {},
   "outputs": [],
   "source": [
    "_symbol_to_id = {s: i for i, s in enumerate(symbols)}\n",
    "_id_to_symbol = {i: s for i, s in enumerate(symbols)}\n"
   ]
  },
  {
   "cell_type": "code",
   "execution_count": 9,
   "metadata": {},
   "outputs": [
    {
     "name": "stdout",
     "output_type": "stream",
     "text": [
      "[49, 84, 43, 65, 44, 6, 49, 70, 46, 6, 49, 84, 43, 65, 44, 6, 49, 70, 46]\n",
      "ㄅㄨˊㄕˋ ㄅㄚ˙ ㄅㄨˊㄕˋ ㄅㄚ˙\n",
      "True\n"
     ]
    }
   ],
   "source": [
    "print(text_to_sequence(\"不是吧不是吧\", cleaner_names=[\"zh_ja_mixture_cleaners\"]))\n",
    "print(zh_ja_mixture_cleaners('不是吧不是吧'))\n",
    "print([_symbol_to_id[i] for i in zh_ja_mixture_cleaners('不是吧不是吧')] == text_to_sequence(\"不是吧不是吧\", cleaner_names=[\"zh_ja_mixture_cleaners\"]))"
   ]
  },
  {
   "cell_type": "code",
   "execution_count": 13,
   "metadata": {},
   "outputs": [
    {
     "data": {
      "text/plain": [
       "'↓ɹipoʊ'"
      ]
     },
     "execution_count": 13,
     "metadata": {},
     "output_type": "execute_result"
    }
   ],
   "source": [
    "english_to_lazy_ipa2('repo')"
   ]
  },
  {
   "cell_type": "code",
   "execution_count": 9,
   "metadata": {},
   "outputs": [
    {
     "data": {
      "text/plain": [
       "'ɪnz'"
      ]
     },
     "execution_count": 9,
     "metadata": {},
     "output_type": "execute_result"
    }
   ],
   "source": [
    "english_to_ipa2('in\\'s')"
   ]
  },
  {
   "cell_type": "code",
   "execution_count": 7,
   "metadata": {},
   "outputs": [
    {
     "data": {
      "text/plain": [
       "'ㄘㄣˉㄘˉ'"
      ]
     },
     "execution_count": 7,
     "metadata": {},
     "output_type": "execute_result"
    }
   ],
   "source": [
    "zh_ja_mixture_cleaners('参差')"
   ]
  },
  {
   "cell_type": "code",
   "execution_count": 41,
   "metadata": {},
   "outputs": [
    {
     "data": {
      "text/plain": [
       "['不爱看吗']"
      ]
     },
     "execution_count": 41,
     "metadata": {},
     "output_type": "execute_result"
    }
   ],
   "source": [
    "import regex\n",
    "regex.findall(r'\\p{Script=Han}+', '不爱看吗？')"
   ]
  },
  {
   "cell_type": "code",
   "execution_count": null,
   "metadata": {},
   "outputs": [],
   "source": []
  }
 ],
 "metadata": {
  "kernelspec": {
   "display_name": "Python 3.8.15 ('emotional-vits')",
   "language": "python",
   "name": "python3"
  },
  "language_info": {
   "codemirror_mode": {
    "name": "ipython",
    "version": 3
   },
   "file_extension": ".py",
   "mimetype": "text/x-python",
   "name": "python",
   "nbconvert_exporter": "python",
   "pygments_lexer": "ipython3",
   "version": "3.8.15"
  },
  "orig_nbformat": 4,
  "vscode": {
   "interpreter": {
    "hash": "0c248ce6975767ac634a5f31a0a7d677ef252ad005347cce479664f465478712"
   }
  }
 },
 "nbformat": 4,
 "nbformat_minor": 2
}
